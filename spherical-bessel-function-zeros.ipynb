{
 "cells": [
  {
   "cell_type": "code",
   "execution_count": 1,
   "metadata": {},
   "outputs": [],
   "source": [
    "import numpy as np\n",
    "import scipy.optimize as opt\n",
    "import scipy.special as spec\n",
    "import matplotlib.pyplot as plt"
   ]
  },
  {
   "cell_type": "code",
   "execution_count": 93,
   "metadata": {},
   "outputs": [],
   "source": [
    "def myFnc(x):\n",
    "    return np.sin(x);\n",
    "\n",
    "def removeErroniusZeros(zeros, minzero, maxzero, fnc, *args):\n",
    "    refined_zeros = []\n",
    "    \n",
    "    for i in range(len(zeros)):\n",
    "        if zeros[i] >= minzero:\n",
    "            if zeros[i] <= maxzero:\n",
    "                if abs(fnc(zeros[i], args[0])) <= 0.000001:\n",
    "                    refined_zeros.append(zeros[i])\n",
    "    \n",
    "    return refined_zeros;\n",
    "\n",
    "def getAllZerosInRange(fnc, minx, maxx, stepsize, *myArgs):\n",
    "    zeros = []\n",
    "    \n",
    "    for i in np.arange(minx, maxx, stepsize):\n",
    "        zeros.append(list(opt.fsolve(fnc, i, args=myArgs[0]))[0])\n",
    "    \n",
    "    #print(zeros)\n",
    "    \n",
    "    for i in range(len(zeros)):\n",
    "        zeros[i] = round(zeros[i], 7)\n",
    "    \n",
    "    zeros = removeErroniusZeros(list(set(zeros)), minx, maxx, fnc, myArgs[0])\n",
    "    \n",
    "    return zeros;"
   ]
  },
  {
   "cell_type": "code",
   "execution_count": 94,
   "metadata": {},
   "outputs": [],
   "source": [
    "def normSphericalBessel(x, n):\n",
    "    return x * spec.spherical_jn(n, x);\n",
    "\n",
    "def normSphericalBesselDerivative(x, n):\n",
    "    #print(n)\n",
    "    return (n + 1) * spec.spherical_jn(n, x) - x * spec.spherical_jn(n+1, x);"
   ]
  },
  {
   "cell_type": "code",
   "execution_count": 95,
   "metadata": {},
   "outputs": [
    {
     "name": "stdout",
     "output_type": "stream",
     "text": [
      "10\n"
     ]
    },
    {
     "name": "stderr",
     "output_type": "stream",
     "text": [
      "/Users/wentmich/opt/anaconda3/lib/python3.8/site-packages/scipy/optimize/minpack.py:175: RuntimeWarning: The iteration is not making good progress, as measured by the \n",
      "  improvement from the last ten iterations.\n",
      "  warnings.warn(msg, RuntimeWarning)\n"
     ]
    },
    {
     "data": {
      "image/png": "[encoded data removed]",
      "text/plain": [
       "<Figure size 432x288 with 1 Axes>"
      ]
     },
     "metadata": {
      "needs_background": "light"
     },
     "output_type": "display_data"
    }
   ],
   "source": [
    "xmax, xmin = 30.0, 0.0\n",
    "\n",
    "nthBessel = 1\n",
    "\n",
    "listOfZeros = getAllZerosInRange(normSphericalBesselDerivative, xmin, xmax, 0.1, nthBessel)\n",
    "\n",
    "print(len(listOfZeros))\n",
    "\n",
    "xvals = np.arange(xmin, xmax, 0.1)\n",
    "fncvals = normSphericalBessel(xvals, nthBessel)\n",
    "zeroHeights = normSphericalBessel(listOfZeros, nthBessel)\n",
    "\n",
    "plt.plot(xvals, fncvals)\n",
    "plt.scatter(listOfZeros, zeroHeights)\n",
    "plt.show()"
   ]
  },
  {
   "cell_type": "code",
   "execution_count": 106,
   "metadata": {},
   "outputs": [
    {
     "name": "stderr",
     "output_type": "stream",
     "text": [
      "/Users/wentmich/opt/anaconda3/lib/python3.8/site-packages/scipy/optimize/minpack.py:175: RuntimeWarning: The number of calls to function has reached maxfev = 400.\n",
      "  warnings.warn(msg, RuntimeWarning)\n",
      "/Users/wentmich/opt/anaconda3/lib/python3.8/site-packages/scipy/optimize/minpack.py:175: RuntimeWarning: The iteration is not making good progress, as measured by the \n",
      "  improvement from the last ten iterations.\n",
      "  warnings.warn(msg, RuntimeWarning)\n"
     ]
    }
   ],
   "source": [
    "# make file with all the spherical bessel zeros\n",
    "maxn = 10\n",
    "listforsphericalbessels = []\n",
    "listforsphericalbesselsderiv = []\n",
    "\n",
    "f = open(\"norm_spherical_bessel_zeros.txt\", 'w')\n",
    "\n",
    "for n in range(maxn):\n",
    "    zeros = getAllZerosInRange(normSphericalBessel, xmin, xmax, 0.1, n)\n",
    "    for i in range(len(zeros) - 1):\n",
    "        f.write(str(zeros[i]) + ', ')\n",
    "    f.write(str(zeros[len(zeros) - 1]) + '\\n')\n",
    "\n",
    "f.close()\n",
    "    \n",
    "f = open(\"norm_spherical_bessel_derivatives_zeros.txt\", 'w')\n",
    "\n",
    "for n in range(maxn):\n",
    "    zeros = getAllZerosInRange(normSphericalBesselDerivative, xmin, xmax, 0.1, n)\n",
    "    for i in range(len(zeros) - 1):\n",
    "        f.write(str(zeros[i]) + ', ')\n",
    "    f.write(str(zeros[len(zeros) - 1]) + '\\n')\n",
    "\n",
    "f.close()"
   ]
  }
 ],
 "metadata": {
  "kernelspec": {
   "display_name": "Python 3",
   "language": "python",
   "name": "python3"
  },
  "language_info": {
   "codemirror_mode": {
    "name": "ipython",
    "version": 3
   },
   "file_extension": ".py",
   "mimetype": "text/x-python",
   "name": "python",
   "nbconvert_exporter": "python",
   "pygments_lexer": "ipython3",
   "version": "3.8.5"
  }
 },
 "nbformat": 4,
 "nbformat_minor": 4
}
