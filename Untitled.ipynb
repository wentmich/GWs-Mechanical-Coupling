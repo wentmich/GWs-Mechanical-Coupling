{
 "cells": [
  {
   "cell_type": "code",
   "execution_count": 28,
   "metadata": {},
   "outputs": [],
   "source": [
    "import numpy as np\n",
    "import matplotlib.pyplot as plt"
   ]
  },
  {
   "cell_type": "code",
   "execution_count": 33,
   "metadata": {},
   "outputs": [],
   "source": [
    "myArray = np.loadtxt('/Users/wentmich/Documents/uiuc/research/GWs/mechanical-modes/MECHm2n0l0EMm0n1p2EMp2.csv',dtype=str)"
   ]
  },
  {
   "cell_type": "code",
   "execution_count": 34,
   "metadata": {},
   "outputs": [
    {
     "data": {
      "text/plain": [
       "(4,)"
      ]
     },
     "execution_count": 34,
     "metadata": {},
     "output_type": "execute_result"
    }
   ],
   "source": [
    "np.shape(myArray)"
   ]
  },
  {
   "cell_type": "code",
   "execution_count": 35,
   "metadata": {},
   "outputs": [
    {
     "data": {
      "text/plain": [
       "array(['\"{0.}\",\"{0.}\",\"{0.}\",\"{0.}\"',\n",
       "       '\"{-7.204082791640645}\",\"{-1.1721413319370089*^-17}\",\"{0.}\",\"{0.}\"',\n",
       "       '\"{5.389616530848684*^-10}\",\"{2.7524612386146233*^-15}\",\"{3.082891047207225*^-16}\",\"{0.}\"',\n",
       "       '\"{-21.346161540255313}\",\"{9.041301932800792*^-7}\",\"{9.041301932800792*^-7}\",\"{6.571548348626997*^-17}\"'],\n",
       "      dtype='<U102')"
      ]
     },
     "execution_count": 35,
     "metadata": {},
     "output_type": "execute_result"
    }
   ],
   "source": [
    "myArray"
   ]
  },
  {
   "cell_type": "code",
   "execution_count": null,
   "metadata": {},
   "outputs": [],
   "source": []
  }
 ],
 "metadata": {
  "kernelspec": {
   "display_name": "Python 3",
   "language": "python",
   "name": "python3"
  },
  "language_info": {
   "codemirror_mode": {
    "name": "ipython",
    "version": 3
   },
   "file_extension": ".py",
   "mimetype": "text/x-python",
   "name": "python",
   "nbconvert_exporter": "python",
   "pygments_lexer": "ipython3",
   "version": "3.8.5"
  }
 },
 "nbformat": 4,
 "nbformat_minor": 4
}
